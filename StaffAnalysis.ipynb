{
 "cells": [
  {
   "cell_type": "markdown",
   "metadata": {},
   "source": [
    "# Purpose\n",
    "\n",
    "This notebook analyzes statistics for DOE SETO staff using project portfolio data. For example, average number of projects per staff member is one metric that may be counted here."
   ]
  },
  {
   "cell_type": "markdown",
   "metadata": {},
   "source": [
    "## Data\n",
    "\n",
    "The data used herein are from the Solar Information Management System (SIMS) and the code is written using the assumed structure of the SIMS data XLSX export as of 3-7-2019. If the system evolves substantially in terms of its data exporting between this date and when you're reading this notebook, changes to the code will be necessary."
   ]
  },
  {
   "cell_type": "markdown",
   "metadata": {},
   "source": [
    "## Objectives\n",
    "\n",
    "1. Aggregate projects by TM Prime\n",
    "    1. Will need to look at unique TM Prime name values first, make sure we don't have any lists of names (and pick one from the list in that scenario)\n",
    "2. Count number of unique projects per TM Prime, then average that number\n",
    "3. Plot number of projects per TM Prime by TM Prime and aggregate up to subprogram\n",
    "4. Average, at TM Prime aggregation level, the amount of Federal dollars, cost share dollars, and total dollars to get a metric of \"this many dollars managed per staffer\".\n",
    "5. Plot dollars per TM Prime"
   ]
  },
  {
   "cell_type": "code",
   "execution_count": null,
   "metadata": {},
   "outputs": [],
   "source": [
    "#Make sure any changes to custom packages can be reflected immediately \n",
    "#in the notebook without kernel restart\n",
    "\n",
    "import autoreload\n",
    "%load_ext autoreload\n",
    "%autoreload 2"
   ]
  },
  {
   "cell_type": "code",
   "execution_count": null,
   "metadata": {},
   "outputs": [],
   "source": [
    "# Standard plotly imports\n",
    "import plotly.plotly as py\n",
    "import plotly.graph_objs as go\n",
    "from plotly.offline import iplot, init_notebook_mode\n",
    "\n",
    "# Using plotly + cufflinks in offline mode\n",
    "import cufflinks\n",
    "cufflinks.go_offline(connected=True)\n",
    "init_notebook_mode(connected=True)\n",
    "\n",
    "import pandas as pd"
   ]
  },
  {
   "cell_type": "code",
   "execution_count": null,
   "metadata": {},
   "outputs": [],
   "source": [
    "pd.options.display.max_columns = 50\n",
    "pd.options.display.max_rows = 30"
   ]
  },
  {
   "cell_type": "code",
   "execution_count": null,
   "metadata": {},
   "outputs": [],
   "source": [
    "df = pd.read_excel(r'data/Staff_Projects_Money_3-5-19.xlsx', sheet_name = 'Sheet')\n",
    "df"
   ]
  },
  {
   "cell_type": "code",
   "execution_count": null,
   "metadata": {},
   "outputs": [],
   "source": [
    "df.columns"
   ]
  },
  {
   "cell_type": "code",
   "execution_count": null,
   "metadata": {},
   "outputs": [],
   "source": [
    "df.rename(columns = {'Planned DOE Share ($)': 'Federal Share', \n",
    "                     'Planned C/S ($)': 'Cost Share',\n",
    "                    'Planned Total Cost': 'Total Cost'}, inplace = True)"
   ]
  },
  {
   "cell_type": "code",
   "execution_count": null,
   "metadata": {},
   "outputs": [],
   "source": [
    "df.columns"
   ]
  },
  {
   "cell_type": "markdown",
   "metadata": {},
   "source": [
    "### Let's see what the distribution of federal funds looks like"
   ]
  },
  {
   "cell_type": "code",
   "execution_count": null,
   "metadata": {},
   "outputs": [],
   "source": [
    "df['Federal Share'].iplot(kind='hist', xTitle='Federal $$',\n",
    "                        yTitle='Count', title='Distribution of Project Federal Funds')"
   ]
  },
  {
   "cell_type": "markdown",
   "metadata": {},
   "source": [
    "### OK, time to check out the staff info"
   ]
  },
  {
   "cell_type": "code",
   "execution_count": null,
   "metadata": {},
   "outputs": [],
   "source": [
    "df['TM Prime'].unique()"
   ]
  },
  {
   "cell_type": "code",
   "execution_count": null,
   "metadata": {},
   "outputs": [],
   "source": [
    "df[df['TM Prime'].str.contains('; ', na = False)]"
   ]
  },
  {
   "cell_type": "markdown",
   "metadata": {},
   "source": [
    "**It turns out that there are a few rows in which there's a semicolon-delimited list of Prime TMs given. Leveraging my own knowledge of these projects, it looks like later values in that list are the more recent correct values. So I'll default to pulling them out as the replacements.**"
   ]
  },
  {
   "cell_type": "code",
   "execution_count": null,
   "metadata": {},
   "outputs": [],
   "source": [
    "#Can't seem to get pd.Series.replace() to work, so have to do this manually unfortunately...\n",
    "\n",
    "df.loc[45, 'TM Prime'] = 'David Walter'\n",
    "df.loc[65, 'TM Prime'] = 'Ammar Qusaibaty'\n",
    "df.loc[90, 'TM Prime'] = 'Mark Lausten'\n",
    "df.loc[93, 'TM Prime'] = 'Inna Kozinsky'\n",
    "df.loc[121, 'TM Prime'] = 'Dave Rench McCauley'\n",
    "df.loc[231, 'TM Prime'] = 'David Walter'\n",
    "df.loc[269, 'TM Prime'] = 'Vijay Rajgopal'"
   ]
  },
  {
   "cell_type": "code",
   "execution_count": null,
   "metadata": {},
   "outputs": [],
   "source": [
    "df[df['TM Prime'].str.contains('; ', na = False)]"
   ]
  },
  {
   "cell_type": "code",
   "execution_count": null,
   "metadata": {},
   "outputs": [],
   "source": [
    "df['TM Prime'].value_counts()"
   ]
  },
  {
   "cell_type": "code",
   "execution_count": null,
   "metadata": {},
   "outputs": [],
   "source": [
    "pd.Series(df['TM Prime'].unique()).sort_values()"
   ]
  },
  {
   "cell_type": "code",
   "execution_count": null,
   "metadata": {},
   "outputs": [],
   "source": [
    "pd.Series(df['TM Prime'].unique())[pd.Series(df['TM Prime'].unique()).str.contains(\"  \", na = False)]"
   ]
  },
  {
   "cell_type": "markdown",
   "metadata": {},
   "source": [
    "**Whoa! What's going on here? It looks like some people have 2 spaces between their first and last name, instead of one, but they also have lots of records in which it's just one space. I'll have to correct these.**"
   ]
  },
  {
   "cell_type": "code",
   "execution_count": null,
   "metadata": {},
   "outputs": [],
   "source": [
    "df['TM Prime'].replace({'Andrew  Dawson': 'Andrew Dawson',\n",
    "                       'Marie  Mapes': 'Marie Mapes',\n",
    "                       'Lenny  Tinker': 'Lenny Tinker',\n",
    "                       'Michele  Boyd': 'Michele Boyd',\n",
    "                       'Tassos  Golnas': 'Tassos Golnas',\n",
    "                       'Dave  Rench McCauley': 'Dave Rench McCauley',\n",
    "                       'Susan  Huang': 'Susan Huang',\n",
    "                       'Ammar  Qusaibaty': 'Ammar Qusaibaty',\n",
    "                       'Andru  Prescod': 'Andru Prescod',\n",
    "                       'Christian  Philipsen': 'Christian Philipsen'}, inplace = True)"
   ]
  },
  {
   "cell_type": "code",
   "execution_count": null,
   "metadata": {},
   "outputs": [],
   "source": [
    "pd.Series(df['TM Prime'].unique()).sort_values().values"
   ]
  },
  {
   "cell_type": "markdown",
   "metadata": {},
   "source": [
    "**That did the trick!**"
   ]
  },
  {
   "cell_type": "code",
   "execution_count": null,
   "metadata": {},
   "outputs": [],
   "source": [
    "df.columns"
   ]
  },
  {
   "cell_type": "markdown",
   "metadata": {},
   "source": [
    "### Projects and Dollars Per Staffer\n",
    "\n",
    "Here we'll aggregate by TM Prime to figure out how many awards each person has and how much money they manage, on average."
   ]
  },
  {
   "cell_type": "code",
   "execution_count": null,
   "metadata": {},
   "outputs": [],
   "source": [
    "df.groupby(['TM Prime'])['Federal Share', 'Cost Share', 'Total Cost'].count()"
   ]
  },
  {
   "cell_type": "code",
   "execution_count": null,
   "metadata": {},
   "outputs": [],
   "source": [
    "df.groupby(['TM Prime'])['Federal Share', 'Cost Share', 'Total Cost'].count().sum()"
   ]
  },
  {
   "cell_type": "code",
   "execution_count": null,
   "metadata": {},
   "outputs": [],
   "source": [
    "df.groupby(['TM Prime'])['Federal Share', 'Cost Share', 'Total Cost'].count().describe()"
   ]
  },
  {
   "cell_type": "code",
   "execution_count": null,
   "metadata": {},
   "outputs": [],
   "source": [
    "df.groupby(['TM Prime'])['Federal Share', 'Cost Share', 'Total Cost'].sum()"
   ]
  },
  {
   "cell_type": "code",
   "execution_count": null,
   "metadata": {},
   "outputs": [],
   "source": [
    "df.groupby(['TM Prime'])['Federal Share', 'Cost Share', 'Total Cost'].sum().sum()"
   ]
  },
  {
   "cell_type": "code",
   "execution_count": null,
   "metadata": {},
   "outputs": [],
   "source": [
    "df.groupby(['TM Prime'])['Federal Share', 'Cost Share', 'Total Cost'].sum().describe()"
   ]
  },
  {
   "cell_type": "code",
   "execution_count": null,
   "metadata": {},
   "outputs": [],
   "source": []
  }
 ],
 "metadata": {
  "kernelspec": {
   "display_name": "Python [conda env:SIMS]",
   "language": "python",
   "name": "conda-env-SIMS-py"
  },
  "language_info": {
   "codemirror_mode": {
    "name": "ipython",
    "version": 3
   },
   "file_extension": ".py",
   "mimetype": "text/x-python",
   "name": "python",
   "nbconvert_exporter": "python",
   "pygments_lexer": "ipython3",
   "version": "3.7.2"
  },
  "toc": {
   "base_numbering": 1,
   "nav_menu": {},
   "number_sections": true,
   "sideBar": true,
   "skip_h1_title": false,
   "title_cell": "Table of Contents",
   "title_sidebar": "Contents",
   "toc_cell": false,
   "toc_position": {},
   "toc_section_display": true,
   "toc_window_display": false
  },
  "varInspector": {
   "cols": {
    "lenName": 16,
    "lenType": 16,
    "lenVar": 40
   },
   "kernels_config": {
    "python": {
     "delete_cmd_postfix": "",
     "delete_cmd_prefix": "del ",
     "library": "var_list.py",
     "varRefreshCmd": "print(var_dic_list())"
    },
    "r": {
     "delete_cmd_postfix": ") ",
     "delete_cmd_prefix": "rm(",
     "library": "var_list.r",
     "varRefreshCmd": "cat(var_dic_list()) "
    }
   },
   "types_to_exclude": [
    "module",
    "function",
    "builtin_function_or_method",
    "instance",
    "_Feature"
   ],
   "window_display": false
  }
 },
 "nbformat": 4,
 "nbformat_minor": 2
}
